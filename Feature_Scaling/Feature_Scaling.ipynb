{
 "cells": [
  {
   "cell_type": "markdown",
   "id": "75d86471",
   "metadata": {},
   "source": [
    "# Feature Scaling in Machine Learning\n",
    "\n",
    "In Data Mining after extraction and cleaning of data, still there are some problems in the data which creates a \n",
    "lot of problems during the implementations of the Machine Learning Algorithm or to predict the output.\n",
    "One of them is the difference between the values of the features of data.\n",
    "For example, If we take a dataset of real estate to predict the price of the house using area and number of bedrooms.\n",
    "\n",
    "\n",
    "Here we can say, there is a lot difference between the values of the features and during the implementation \n",
    "of the algorithm, one of the features will hide the importance of other one. Many machine learning algorithm that \n",
    "are using euclidean distance as a metric to calculate the similarites will fail to give a reasonable recognition to \n",
    "the smaller feature.\n",
    "\n",
    "Here we introduce the new concept to overcome the above problem by using Feature Scaling. It is one of the \n",
    "such process in which we transform the data into better version. Feature scaling is done to normalise the features \n",
    "in the data set into the finite range.\n",
    "\n",
    "There are several ways to do feature scaling:-\n",
    "1. Absolute Maximum Scaling\n",
    "2. Min-Max Scaling\n",
    "3. Normalisation\n",
    "4. Standardization\n",
    "5. Robust Scaling\n"
   ]
  },
  {
   "cell_type": "markdown",
   "id": "cf079699",
   "metadata": {},
   "source": [
    "## Absolute Maximum Scaling"
   ]
  },
  {
   "cell_type": "markdown",
   "id": "5de5500d",
   "metadata": {},
   "source": [
    "import numpy as np\n",
    "\n",
    "#create an feature let area\n",
    "area = np.array([1600,1800,2500,1200,1200])\n",
    "\n",
    "#find the maximum in area\n",
    "max_in_area = area.max()\n",
    "\n",
    "#divide the whole feature by the maximum\n",
    "area  = area/max_in_area\n",
    "\n",
    "#Hence the range of area is in between 0-1\n",
    "print(area)"
   ]
  },
  {
   "cell_type": "markdown",
   "id": "7296b994",
   "metadata": {},
   "source": [
    "## Min-Max Scaling"
   ]
  },
  {
   "cell_type": "code",
   "execution_count": 52,
   "id": "f0932780",
   "metadata": {},
   "outputs": [
    {
     "name": "stdout",
     "output_type": "stream",
     "text": [
      "[0.30769231 0.46153846 1.         0.         0.        ]\n"
     ]
    }
   ],
   "source": [
    "import numpy as np\n",
    "\n",
    "#create an feature let area\n",
    "area = np.array([1600,1800,2500,1200,1200])\n",
    "\n",
    "#find the maximum in area\n",
    "max_in_area = area.max()\n",
    "\n",
    "#find the minimum in area\n",
    "min_in_area = area.min()\n",
    "\n",
    "#using formula of Min_Max_Scaling\n",
    "area  = (area-min_in_area)/(max_in_area-min_in_area)\n",
    "\n",
    "#Hence the range of area is in between 0-1\n",
    "print(area)"
   ]
  },
  {
   "cell_type": "markdown",
   "id": "1f09a147",
   "metadata": {},
   "source": [
    "## Normalization Method"
   ]
  },
  {
   "cell_type": "code",
   "execution_count": 53,
   "id": "e66e6655",
   "metadata": {},
   "outputs": [
    {
     "name": "stdout",
     "output_type": "stream",
     "text": [
      "[-0.04615385  0.10769231  0.64615385 -0.35384615 -0.35384615]\n"
     ]
    }
   ],
   "source": [
    "import numpy as np\n",
    "\n",
    "#create an feature let area\n",
    "area = np.array([1600,1800,2500,1200,1200])\n",
    "\n",
    "#find the maximum in area\n",
    "max_in_area = area.max()\n",
    "\n",
    "#find the minimum in area\n",
    "min_in_area = area.min()\n",
    "\n",
    "#find the mean in area\n",
    "mean_in_area = area.mean()\n",
    "\n",
    "#using formula of Normalization Method\n",
    "area  = (area-mean_in_area)/(max_in_area-min_in_area)\n",
    "\n",
    "#Hence the range of area is in between -1 and 1\n",
    "print(area)"
   ]
  },
  {
   "cell_type": "markdown",
   "id": "7aa32eb0",
   "metadata": {},
   "source": [
    "## Standard Normalization Method"
   ]
  },
  {
   "cell_type": "code",
   "execution_count": 55,
   "id": "a2a02840",
   "metadata": {},
   "outputs": [
    {
     "name": "stdout",
     "output_type": "stream",
     "text": [
      "[-0.00026042  0.00060764  0.00364583 -0.00199653 -0.00199653]\n"
     ]
    }
   ],
   "source": [
    "import numpy as np\n",
    "\n",
    "#create an feature let area\n",
    "area = np.array([1600,1800,2500,1200,1200])\n",
    "\n",
    "#find the mean in area\n",
    "mean_in_area = area.mean()\n",
    "\n",
    "#find the standard variance in area\n",
    "var_of_area = np.var(area)\n",
    "\n",
    "#using formula of Normalization Method\n",
    "area  = (area-mean_in_area)/(var_of_area)\n",
    "\n",
    "#Hence the range of area is in between -1 and 1\n",
    "print(area)"
   ]
  },
  {
   "cell_type": "markdown",
   "id": "0eb8df00",
   "metadata": {},
   "source": [
    "## Robust Scaling"
   ]
  },
  {
   "cell_type": "code",
   "execution_count": null,
   "id": "61bb8bf8",
   "metadata": {},
   "outputs": [],
   "source": [
    "import numpy as np\n",
    "\n",
    "#create an feature let area\n",
    "area = np.array([1600,1800,2500,1200,1200])\n",
    "\n",
    "#find the median in area\n",
    "median_in_area = area.median()\n",
    "\n",
    "#find the standard variance in area\n",
    "var_of_area = np.var(area)\n",
    "\n",
    "#using formula of Normalization Method\n",
    "area  = (area-mean_in_area)/(var_of_area)\n",
    "\n",
    "#Hence the range of area is in between -1 and 1\n",
    "print(area)"
   ]
  }
 ],
 "metadata": {
  "kernelspec": {
   "display_name": "Python 3 (ipykernel)",
   "language": "python",
   "name": "python3"
  },
  "language_info": {
   "codemirror_mode": {
    "name": "ipython",
    "version": 3
   },
   "file_extension": ".py",
   "mimetype": "text/x-python",
   "name": "python",
   "nbconvert_exporter": "python",
   "pygments_lexer": "ipython3",
   "version": "3.9.7"
  }
 },
 "nbformat": 4,
 "nbformat_minor": 5
}
